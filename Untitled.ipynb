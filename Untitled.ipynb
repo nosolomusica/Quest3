{
 "cells": [
  {
   "cell_type": "code",
   "execution_count": null,
   "id": "f5d14e8d-0bfd-49c2-9293-ffdfe81c91c6",
   "metadata": {},
   "outputs": [],
   "source": [
    "import pandas as pd\n",
    "\n",
    "# Datos de ejemplo\n",
    "data = {\n",
    "    'date': ['2019-01-02', '2019-01-03', '2019-01-04', '2019-01-07', '2019-01-08'],\n",
    "    'Asset1': [231.5061, 231.0356, 230.4026, 230.0543, 229.7012],\n",
    "    'Asset2': [55.875, 54.977, 56.129, 56.838, 56.895],\n",
    "    'Asset3': [25.649222, 25.503047, 26.147133, 25.955277, 26.137997],\n",
    "    'Asset4': [302.93, 302.11, 301.77, 302.33, 303.42],\n",
    "    'Asset5': [50.89, 50.41, 51.38, 52.14, 52.13]\n",
    "}\n",
    "df = pd.DataFrame(data)\n",
    "\n",
    "# Convertir la columna 'date' a tipo datetime\n",
    "df['date'] = pd.to_datetime(df['date'])\n",
    "\n",
    "# Calcular los rendimientos diarios porcentuales\n",
    "returns = df[['Asset1', 'Asset2', 'Asset3', 'Asset4', 'Asset5']].pct_change() * 100\n",
    "\n",
    "# Calcular la matriz de correlación entre los activos\n",
    "correlation_matrix = returns.corr()\n",
    "\n",
    "# Mostrar los resultados\n",
    "print(\"Rendimientos diarios porcentuales:\\n\", returns)\n",
    "print(\"\\nMatriz de correlación:\\n\", correlation_matrix)\n"
   ]
  }
 ],
 "metadata": {
  "kernelspec": {
   "display_name": "Python 3 (ipykernel)",
   "language": "python",
   "name": "python3"
  },
  "language_info": {
   "codemirror_mode": {
    "name": "ipython",
    "version": 3
   },
   "file_extension": ".py",
   "mimetype": "text/x-python",
   "name": "python",
   "nbconvert_exporter": "python",
   "pygments_lexer": "ipython3",
   "version": "3.12.4"
  }
 },
 "nbformat": 4,
 "nbformat_minor": 5
}
